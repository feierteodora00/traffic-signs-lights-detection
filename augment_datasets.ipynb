{
 "cells": [
  {
   "cell_type": "markdown",
   "metadata": {
    "id": "mDkmKHtV9Ayx"
   },
   "source": [
    "# Dataset augmentation"
   ]
  },
  {
   "cell_type": "markdown",
   "metadata": {},
   "source": [
    "### This notebook will focus on dataset augmentation methods. It will generate new images and corresponding annotation files"
   ]
  },
  {
   "cell_type": "code",
   "execution_count": 1,
   "metadata": {},
   "outputs": [],
   "source": [
    "#import libraries\n",
    "import glob\n",
    "import os\n",
    "import pandas as pd\n",
    "from PIL import Image, ImageEnhance, ImageFilter"
   ]
  },
  {
   "cell_type": "markdown",
   "metadata": {},
   "source": [
    "For ease of implementation, all images of the dataset should be stored in a single folder (in this case, /images). The same goes for annotation files (in this case, /annotations). Otherwise, the following process should be performed on each folder containing images of the dataset. "
   ]
  },
  {
   "cell_type": "markdown",
   "metadata": {},
   "source": [
    "Additionally, rather than augmenting certain images, augmentation will be performed on all of them. However, for training will be used just the images specified in the train.txt file."
   ]
  },
  {
   "cell_type": "markdown",
   "metadata": {},
   "source": [
    "### Augmentation involves darkening, brightening, and blurring (2 degrees of blurring)"
   ]
  },
  {
   "cell_type": "markdown",
   "metadata": {},
   "source": [
    "Define the types of files to read (by extensions), specifying the path to the images folder"
   ]
  },
  {
   "cell_type": "code",
   "execution_count": 2,
   "metadata": {},
   "outputs": [],
   "source": [
    "extensions = ['jpg', 'png']\n",
    "images_dir = \"final_dataset/images/\"\n",
    "ann_dir = \"final_dataset/annotations/\""
   ]
  },
  {
   "cell_type": "markdown",
   "metadata": {},
   "source": [
    "Read the images and annotation files and perform augmentation (photometric). Note: it may take a few minute to run"
   ]
  },
  {
   "cell_type": "code",
   "execution_count": 3,
   "metadata": {},
   "outputs": [],
   "source": [
    "for ext in extensions:\n",
    "    for filename in glob.glob(images_dir + \"*.\" + ext):\n",
    "        basename = os.path.basename(filename)\n",
    "        basename = os.path.splitext(basename)[0]\n",
    "        \n",
    "        #open image\n",
    "        image = Image.open(filename)\n",
    "        \n",
    "        #image augmentation\n",
    "        enhancer = ImageEnhance.Brightness(image)\n",
    "        factor = 0.5 #darkening the image\n",
    "        image_output = enhancer.enhance(factor)\n",
    "        image_output.save(images_dir + basename + \"_dark.\" + ext)\n",
    "        \n",
    "        factor = 1.5 #brightening the image\n",
    "        image_output = enhancer.enhance(factor)\n",
    "        image_output.save(images_dir + basename + \"_bright.\" + ext)\n",
    "        \n",
    "        enhancer = ImageEnhance.Sharpness(image)\n",
    "        factor = 0.1 #blurring the image\n",
    "        image_output = enhancer.enhance(factor)\n",
    "        image_output.save(images_dir + basename + \"_blur.\" + ext)\n",
    "        \n",
    "        image_output = image.filter(ImageFilter.BLUR) #more blurred image\n",
    "        image_output.save(images_dir + basename + \"_blur2.\" + ext)\n",
    "        #end of image augmentation \n",
    "        \n",
    "        #open corresponding annotation       \n",
    "        #if there are images without annotations (no objects), skip them\n",
    "        ann_path = ann_dir + basename + \".txt\"\n",
    "        if not os.path.exists(ann_path):\n",
    "            continue\n",
    "        ann = open(ann_path, \"r\")\n",
    "        \n",
    "        #create corresponding annotation files for images\n",
    "        ann_dark = open(ann_dir + basename + \"_dark.txt\", \"w\")\n",
    "        ann_bright = open(ann_dir + basename + \"_bright.txt\", \"w\")\n",
    "        ann_blur = open(ann_dir + basename + \"_blur.txt\", \"w\")\n",
    "        ann_blur2 = open (ann_dir + basename + \"_blur2.txt\", \"w\")\n",
    "        \n",
    "        #copy the content of the original annotation to the new annotation files\n",
    "        for line in ann:\n",
    "            ann_dark.write(line)\n",
    "            ann_bright.write(line)\n",
    "            ann_blur.write(line)\n",
    "            ann_blur2.write(line)\n",
    "         \n",
    "        #close the files\n",
    "        ann_dark.close()\n",
    "        ann_bright.close()\n",
    "        ann_blur.close()\n",
    "        ann_blur2.close()"
   ]
  }
 ],
 "metadata": {
  "colab": {
   "collapsed_sections": [],
   "name": "Untitled0.ipynb",
   "provenance": []
  },
  "kernelspec": {
   "display_name": "Python 3 (ipykernel)",
   "language": "python",
   "name": "python3"
  },
  "language_info": {
   "codemirror_mode": {
    "name": "ipython",
    "version": 3
   },
   "file_extension": ".py",
   "mimetype": "text/x-python",
   "name": "python",
   "nbconvert_exporter": "python",
   "pygments_lexer": "ipython3",
   "version": "3.8.8"
  }
 },
 "nbformat": 4,
 "nbformat_minor": 1
}
