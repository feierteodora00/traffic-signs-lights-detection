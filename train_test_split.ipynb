{
 "cells": [
  {
   "cell_type": "markdown",
   "metadata": {
    "id": "mDkmKHtV9Ayx"
   },
   "source": [
    "# Splitting the dataset and generating required files"
   ]
  },
  {
   "cell_type": "markdown",
   "metadata": {},
   "source": [
    "### This notebook will focus on spliting the dataset into training and testing sets, and the generation of files train.txt and test.txt required for training the object detector"
   ]
  },
  {
   "cell_type": "code",
   "execution_count": 1,
   "metadata": {},
   "outputs": [],
   "source": [
    "#import libraries\n",
    "import glob\n",
    "import os\n",
    "import pandas as pd\n",
    "import numpy as np\n",
    "import matplotlib.pyplot as plt"
   ]
  },
  {
   "cell_type": "markdown",
   "metadata": {},
   "source": [
    "In the same manner csv files were created for GTSDB and MakeML datasets, a similar file will be generated for the collected images set using the annotations made. The main purpose of this is to help visualizing data distribution"
   ]
  },
  {
   "cell_type": "markdown",
   "metadata": {},
   "source": [
    "Define the path to annotation and create csv file and its header"
   ]
  },
  {
   "cell_type": "code",
   "execution_count": 27,
   "metadata": {},
   "outputs": [
    {
     "data": {
      "text/plain": [
       "40"
      ]
     },
     "execution_count": 27,
     "metadata": {},
     "output_type": "execute_result"
    }
   ],
   "source": [
    "ann_dir = \"collected_images/annotations/\"\n",
    "csv_file = open(\"gt_collected_yolo.csv\", \"w\")\n",
    "csv_file.write(\"file,xcenter,ycenter,width,height,class\\n\")"
   ]
  },
  {
   "cell_type": "markdown",
   "metadata": {},
   "source": [
    "Read all the annotations and add information to csv"
   ]
  },
  {
   "cell_type": "code",
   "execution_count": 28,
   "metadata": {},
   "outputs": [],
   "source": [
    "for filename in glob.glob(ann_dir + \"*.txt\"):\n",
    "    ann = open(filename)\n",
    "    \n",
    "    basename = os.path.basename(filename)\n",
    "    basename = os.path.splitext(basename)[0]\n",
    "    \n",
    "    for line in ann:\n",
    "        #format for csv\n",
    "        line = line.split(\" \")\n",
    "        cls = line[0]\n",
    "        xc = line[1]\n",
    "        yc = line[2]\n",
    "        w = line[3]\n",
    "        h = float(line[4])\n",
    "        new_line = basename + \".jpg,\" + xc + \",\" + yc + \",\" + w + \",\" + str(h) + \",\" + cls + \"\\n\"\n",
    "        csv_file.write(new_line)\n",
    "        \n",
    "csv_file.close()"
   ]
  },
  {
   "cell_type": "markdown",
   "metadata": {},
   "source": [
    "Now that all the information about the dataset is stored in csv file, let's visualize it before proceeding any further"
   ]
  },
  {
   "cell_type": "markdown",
   "metadata": {},
   "source": [
    "Read the csv files as dataframes and present the first rows of each one"
   ]
  },
  {
   "cell_type": "code",
   "execution_count": 3,
   "metadata": {},
   "outputs": [],
   "source": [
    "df_gtsdb = pd.read_csv(\"gt_GTSDB_yolo.csv\")\n",
    "df_makeml = pd.read_csv(\"gt_MakeML_yolo.csv\")\n",
    "df_collected = pd.read_csv(\"gt_collected_yolo.csv\")"
   ]
  },
  {
   "cell_type": "code",
   "execution_count": 4,
   "metadata": {},
   "outputs": [
    {
     "data": {
      "text/html": [
       "<div>\n",
       "<style scoped>\n",
       "    .dataframe tbody tr th:only-of-type {\n",
       "        vertical-align: middle;\n",
       "    }\n",
       "\n",
       "    .dataframe tbody tr th {\n",
       "        vertical-align: top;\n",
       "    }\n",
       "\n",
       "    .dataframe thead th {\n",
       "        text-align: right;\n",
       "    }\n",
       "</style>\n",
       "<table border=\"1\" class=\"dataframe\">\n",
       "  <thead>\n",
       "    <tr style=\"text-align: right;\">\n",
       "      <th></th>\n",
       "      <th>file</th>\n",
       "      <th>xcenter</th>\n",
       "      <th>ycenter</th>\n",
       "      <th>width</th>\n",
       "      <th>height</th>\n",
       "      <th>class</th>\n",
       "    </tr>\n",
       "  </thead>\n",
       "  <tbody>\n",
       "    <tr>\n",
       "      <th>0</th>\n",
       "      <td>00000.jpg</td>\n",
       "      <td>0.584191</td>\n",
       "      <td>0.535625</td>\n",
       "      <td>0.030147</td>\n",
       "      <td>0.04375</td>\n",
       "      <td>4</td>\n",
       "    </tr>\n",
       "    <tr>\n",
       "      <th>1</th>\n",
       "      <td>00001.jpg</td>\n",
       "      <td>0.737868</td>\n",
       "      <td>0.512500</td>\n",
       "      <td>0.030147</td>\n",
       "      <td>0.05500</td>\n",
       "      <td>5</td>\n",
       "    </tr>\n",
       "    <tr>\n",
       "      <th>2</th>\n",
       "      <td>00001.jpg</td>\n",
       "      <td>0.304412</td>\n",
       "      <td>0.653750</td>\n",
       "      <td>0.041176</td>\n",
       "      <td>0.07250</td>\n",
       "      <td>5</td>\n",
       "    </tr>\n",
       "    <tr>\n",
       "      <th>3</th>\n",
       "      <td>00001.jpg</td>\n",
       "      <td>0.736765</td>\n",
       "      <td>0.453125</td>\n",
       "      <td>0.042647</td>\n",
       "      <td>0.06875</td>\n",
       "      <td>7</td>\n",
       "    </tr>\n",
       "    <tr>\n",
       "      <th>4</th>\n",
       "      <td>00002.jpg</td>\n",
       "      <td>0.697794</td>\n",
       "      <td>0.667500</td>\n",
       "      <td>0.083824</td>\n",
       "      <td>0.14500</td>\n",
       "      <td>5</td>\n",
       "    </tr>\n",
       "  </tbody>\n",
       "</table>\n",
       "</div>"
      ],
      "text/plain": [
       "        file   xcenter   ycenter     width   height  class\n",
       "0  00000.jpg  0.584191  0.535625  0.030147  0.04375      4\n",
       "1  00001.jpg  0.737868  0.512500  0.030147  0.05500      5\n",
       "2  00001.jpg  0.304412  0.653750  0.041176  0.07250      5\n",
       "3  00001.jpg  0.736765  0.453125  0.042647  0.06875      7\n",
       "4  00002.jpg  0.697794  0.667500  0.083824  0.14500      5"
      ]
     },
     "execution_count": 4,
     "metadata": {},
     "output_type": "execute_result"
    }
   ],
   "source": [
    "df_gtsdb.head()"
   ]
  },
  {
   "cell_type": "code",
   "execution_count": 5,
   "metadata": {},
   "outputs": [
    {
     "data": {
      "text/html": [
       "<div>\n",
       "<style scoped>\n",
       "    .dataframe tbody tr th:only-of-type {\n",
       "        vertical-align: middle;\n",
       "    }\n",
       "\n",
       "    .dataframe tbody tr th {\n",
       "        vertical-align: top;\n",
       "    }\n",
       "\n",
       "    .dataframe thead th {\n",
       "        text-align: right;\n",
       "    }\n",
       "</style>\n",
       "<table border=\"1\" class=\"dataframe\">\n",
       "  <thead>\n",
       "    <tr style=\"text-align: right;\">\n",
       "      <th></th>\n",
       "      <th>file</th>\n",
       "      <th>xcenter</th>\n",
       "      <th>ycenter</th>\n",
       "      <th>width</th>\n",
       "      <th>height</th>\n",
       "      <th>class</th>\n",
       "    </tr>\n",
       "  </thead>\n",
       "  <tbody>\n",
       "    <tr>\n",
       "      <th>0</th>\n",
       "      <td>road0.png</td>\n",
       "      <td>0.573034</td>\n",
       "      <td>0.367500</td>\n",
       "      <td>0.411985</td>\n",
       "      <td>0.425000</td>\n",
       "      <td>0</td>\n",
       "    </tr>\n",
       "    <tr>\n",
       "      <th>1</th>\n",
       "      <td>road1.png</td>\n",
       "      <td>0.515000</td>\n",
       "      <td>0.607774</td>\n",
       "      <td>0.260000</td>\n",
       "      <td>0.770318</td>\n",
       "      <td>0</td>\n",
       "    </tr>\n",
       "    <tr>\n",
       "      <th>2</th>\n",
       "      <td>road10.png</td>\n",
       "      <td>0.437500</td>\n",
       "      <td>0.498127</td>\n",
       "      <td>0.345000</td>\n",
       "      <td>0.973783</td>\n",
       "      <td>0</td>\n",
       "    </tr>\n",
       "    <tr>\n",
       "      <th>3</th>\n",
       "      <td>road100.png</td>\n",
       "      <td>0.497500</td>\n",
       "      <td>0.429870</td>\n",
       "      <td>0.820000</td>\n",
       "      <td>0.833766</td>\n",
       "      <td>2</td>\n",
       "    </tr>\n",
       "    <tr>\n",
       "      <th>4</th>\n",
       "      <td>road101.png</td>\n",
       "      <td>0.733750</td>\n",
       "      <td>0.502500</td>\n",
       "      <td>0.492500</td>\n",
       "      <td>0.935000</td>\n",
       "      <td>2</td>\n",
       "    </tr>\n",
       "  </tbody>\n",
       "</table>\n",
       "</div>"
      ],
      "text/plain": [
       "          file   xcenter   ycenter     width    height  class\n",
       "0    road0.png  0.573034  0.367500  0.411985  0.425000      0\n",
       "1    road1.png  0.515000  0.607774  0.260000  0.770318      0\n",
       "2   road10.png  0.437500  0.498127  0.345000  0.973783      0\n",
       "3  road100.png  0.497500  0.429870  0.820000  0.833766      2\n",
       "4  road101.png  0.733750  0.502500  0.492500  0.935000      2"
      ]
     },
     "execution_count": 5,
     "metadata": {},
     "output_type": "execute_result"
    }
   ],
   "source": [
    "df_makeml.head()"
   ]
  },
  {
   "cell_type": "code",
   "execution_count": 6,
   "metadata": {},
   "outputs": [
    {
     "data": {
      "text/html": [
       "<div>\n",
       "<style scoped>\n",
       "    .dataframe tbody tr th:only-of-type {\n",
       "        vertical-align: middle;\n",
       "    }\n",
       "\n",
       "    .dataframe tbody tr th {\n",
       "        vertical-align: top;\n",
       "    }\n",
       "\n",
       "    .dataframe thead th {\n",
       "        text-align: right;\n",
       "    }\n",
       "</style>\n",
       "<table border=\"1\" class=\"dataframe\">\n",
       "  <thead>\n",
       "    <tr style=\"text-align: right;\">\n",
       "      <th></th>\n",
       "      <th>file</th>\n",
       "      <th>xcenter</th>\n",
       "      <th>ycenter</th>\n",
       "      <th>width</th>\n",
       "      <th>height</th>\n",
       "      <th>class</th>\n",
       "    </tr>\n",
       "  </thead>\n",
       "  <tbody>\n",
       "    <tr>\n",
       "      <th>0</th>\n",
       "      <td>img1.jpg</td>\n",
       "      <td>0.353805</td>\n",
       "      <td>0.362483</td>\n",
       "      <td>0.190921</td>\n",
       "      <td>0.127281</td>\n",
       "      <td>0</td>\n",
       "    </tr>\n",
       "    <tr>\n",
       "      <th>1</th>\n",
       "      <td>img1.jpg</td>\n",
       "      <td>0.354306</td>\n",
       "      <td>0.471851</td>\n",
       "      <td>0.131175</td>\n",
       "      <td>0.085670</td>\n",
       "      <td>5</td>\n",
       "    </tr>\n",
       "    <tr>\n",
       "      <th>2</th>\n",
       "      <td>img10.jpg</td>\n",
       "      <td>0.428883</td>\n",
       "      <td>0.512039</td>\n",
       "      <td>0.441298</td>\n",
       "      <td>0.606905</td>\n",
       "      <td>1</td>\n",
       "    </tr>\n",
       "    <tr>\n",
       "      <th>3</th>\n",
       "      <td>img11.jpg</td>\n",
       "      <td>0.501013</td>\n",
       "      <td>0.380305</td>\n",
       "      <td>0.440683</td>\n",
       "      <td>0.309992</td>\n",
       "      <td>1</td>\n",
       "    </tr>\n",
       "    <tr>\n",
       "      <th>4</th>\n",
       "      <td>img12.jpg</td>\n",
       "      <td>0.729427</td>\n",
       "      <td>0.393052</td>\n",
       "      <td>0.275521</td>\n",
       "      <td>0.511319</td>\n",
       "      <td>1</td>\n",
       "    </tr>\n",
       "  </tbody>\n",
       "</table>\n",
       "</div>"
      ],
      "text/plain": [
       "        file   xcenter   ycenter     width    height  class\n",
       "0   img1.jpg  0.353805  0.362483  0.190921  0.127281      0\n",
       "1   img1.jpg  0.354306  0.471851  0.131175  0.085670      5\n",
       "2  img10.jpg  0.428883  0.512039  0.441298  0.606905      1\n",
       "3  img11.jpg  0.501013  0.380305  0.440683  0.309992      1\n",
       "4  img12.jpg  0.729427  0.393052  0.275521  0.511319      1"
      ]
     },
     "execution_count": 6,
     "metadata": {},
     "output_type": "execute_result"
    }
   ],
   "source": [
    "df_collected.head()"
   ]
  },
  {
   "cell_type": "markdown",
   "metadata": {},
   "source": [
    "Create plots to visualize data distribution before merging the sets and before augmentation"
   ]
  },
  {
   "cell_type": "code",
   "execution_count": null,
   "metadata": {},
   "outputs": [],
   "source": [
    "cls_distribution = np.array(df_gtsdb['class'])\n",
    "plt.hist(cls_distribution, bins = 8)\n",
    "plt.title(\"Class distribution - GTSDB\")\n",
    "plt.show()"
   ]
  },
  {
   "cell_type": "code",
   "execution_count": null,
   "metadata": {},
   "outputs": [],
   "source": [
    "cls_distribution = np.array(df_makeml['class'])\n",
    "plt.hist(cls_distribution, bins = 8)\n",
    "plt.title(\"Class distribution - MakeML\")\n",
    "plt.show()"
   ]
  },
  {
   "cell_type": "code",
   "execution_count": null,
   "metadata": {},
   "outputs": [],
   "source": [
    "cls_distribution = np.array(df_collected['class'])\n",
    "plt.hist(cls_distribution, bins = 8)\n",
    "plt.title(\"Class distribution - Collected Images\")\n",
    "plt.show()"
   ]
  },
  {
   "cell_type": "markdown",
   "metadata": {},
   "source": [
    "And let's see how the dataset looked before adding extra images, but after applying the reclassification as described in the report"
   ]
  },
  {
   "cell_type": "code",
   "execution_count": null,
   "metadata": {},
   "outputs": [],
   "source": [
    "df = pd.concat([df_gtsdb, df_makeml], ignore_index=True)\n",
    "\n",
    "cls_distribution = np.array(df['class'])\n",
    "plt.hist(cls_distribution, bins = 8)\n",
    "plt.title(\"Class distribution - GTSDB + MakeML\")\n",
    "plt.show()"
   ]
  },
  {
   "cell_type": "markdown",
   "metadata": {},
   "source": [
    "It is obviously that the set is unbalanced. However, it would not be feasible to gather and annotate so many images for each class to make the set balanced (considering the time limitations). Therefore, another approch was taken: work on balancing all the classes except class 2 (hence the collected_images set) which requires far less images, and the augmentation performed on all classes but class 2. Let's see the final set data distribution across classes"
   ]
  },
  {
   "cell_type": "code",
   "execution_count": null,
   "metadata": {},
   "outputs": [],
   "source": [
    "final = pd.concat([df_gtsdb, df_makeml, df_collected], ignore_index=True)\n",
    "\n",
    "cls_distribution = np.array(df['class'])\n",
    "plt.hist(cls_distribution, bins = 8)\n",
    "plt.title(\"Class distribution - Final Dataset\")\n",
    "plt.show()"
   ]
  },
  {
   "cell_type": "markdown",
   "metadata": {},
   "source": [
    "And also see the number of annotated images available in the set"
   ]
  },
  {
   "cell_type": "code",
   "execution_count": 10,
   "metadata": {},
   "outputs": [
    {
     "name": "stdout",
     "output_type": "stream",
     "text": [
      "Number of images:  1672\n"
     ]
    }
   ],
   "source": [
    "unique_files = final['file'].unique().tolist()\n",
    "print(\"Number of images: \", len(unique_files))"
   ]
  },
  {
   "cell_type": "markdown",
   "metadata": {},
   "source": [
    "Proceeding onto spliting the set into training and testing with a ratio of 60:40"
   ]
  },
  {
   "cell_type": "code",
   "execution_count": null,
   "metadata": {},
   "outputs": [],
   "source": [
    "#use this cell to install sklearn if needed\n",
    "#!pip install sklearn"
   ]
  },
  {
   "cell_type": "code",
   "execution_count": 11,
   "metadata": {},
   "outputs": [],
   "source": [
    "from sklearn.model_selection import train_test_split"
   ]
  },
  {
   "cell_type": "markdown",
   "metadata": {},
   "source": [
    "Get the unique filenames of the images"
   ]
  },
  {
   "cell_type": "code",
   "execution_count": 12,
   "metadata": {},
   "outputs": [],
   "source": [
    "aux = final[['file']]\n",
    "aux = aux.drop_duplicates()"
   ]
  },
  {
   "cell_type": "markdown",
   "metadata": {},
   "source": [
    "Perform the actual split and show the size of the subsets. Note that the results of splitting are different for each individual run, so the files may differ, but the number of images should be consistent"
   ]
  },
  {
   "cell_type": "code",
   "execution_count": 13,
   "metadata": {},
   "outputs": [
    {
     "name": "stdout",
     "output_type": "stream",
     "text": [
      "Images for training:  1003\n",
      "Images for testing:  669\n"
     ]
    }
   ],
   "source": [
    "train, test = train_test_split(aux, test_size=0.4)\n",
    "print(\"Images for training: \", train.shape[0])\n",
    "print(\"Images for testing: \", test.shape[0])"
   ]
  },
  {
   "cell_type": "markdown",
   "metadata": {},
   "source": [
    "Having the subsets done, extract the information about each image from the 'final' dataframe for the training and respectively testing set. Plot the data distribution."
   ]
  },
  {
   "cell_type": "code",
   "execution_count": 21,
   "metadata": {},
   "outputs": [
    {
     "data": {
      "text/html": [
       "<div>\n",
       "<style scoped>\n",
       "    .dataframe tbody tr th:only-of-type {\n",
       "        vertical-align: middle;\n",
       "    }\n",
       "\n",
       "    .dataframe tbody tr th {\n",
       "        vertical-align: top;\n",
       "    }\n",
       "\n",
       "    .dataframe thead th {\n",
       "        text-align: right;\n",
       "    }\n",
       "</style>\n",
       "<table border=\"1\" class=\"dataframe\">\n",
       "  <thead>\n",
       "    <tr style=\"text-align: right;\">\n",
       "      <th></th>\n",
       "      <th>file</th>\n",
       "      <th>xcenter</th>\n",
       "      <th>ycenter</th>\n",
       "      <th>width</th>\n",
       "      <th>height</th>\n",
       "      <th>class</th>\n",
       "    </tr>\n",
       "  </thead>\n",
       "  <tbody>\n",
       "    <tr>\n",
       "      <th>0</th>\n",
       "      <td>road274.png</td>\n",
       "      <td>0.641667</td>\n",
       "      <td>0.752500</td>\n",
       "      <td>0.183333</td>\n",
       "      <td>0.145000</td>\n",
       "      <td>2.0</td>\n",
       "    </tr>\n",
       "    <tr>\n",
       "      <th>1</th>\n",
       "      <td>road770.png</td>\n",
       "      <td>0.515000</td>\n",
       "      <td>0.447500</td>\n",
       "      <td>0.110000</td>\n",
       "      <td>0.075000</td>\n",
       "      <td>2.0</td>\n",
       "    </tr>\n",
       "    <tr>\n",
       "      <th>2</th>\n",
       "      <td>00653.jpg</td>\n",
       "      <td>0.586029</td>\n",
       "      <td>0.536875</td>\n",
       "      <td>0.016176</td>\n",
       "      <td>0.028750</td>\n",
       "      <td>5.0</td>\n",
       "    </tr>\n",
       "    <tr>\n",
       "      <th>3</th>\n",
       "      <td>00653.jpg</td>\n",
       "      <td>0.584926</td>\n",
       "      <td>0.494375</td>\n",
       "      <td>0.022794</td>\n",
       "      <td>0.038750</td>\n",
       "      <td>7.0</td>\n",
       "    </tr>\n",
       "    <tr>\n",
       "      <th>4</th>\n",
       "      <td>00430.jpg</td>\n",
       "      <td>0.712132</td>\n",
       "      <td>0.563750</td>\n",
       "      <td>0.058088</td>\n",
       "      <td>0.092500</td>\n",
       "      <td>7.0</td>\n",
       "    </tr>\n",
       "    <tr>\n",
       "      <th>5</th>\n",
       "      <td>road52.png</td>\n",
       "      <td>0.480000</td>\n",
       "      <td>0.666250</td>\n",
       "      <td>0.680000</td>\n",
       "      <td>0.502500</td>\n",
       "      <td>1.0</td>\n",
       "    </tr>\n",
       "    <tr>\n",
       "      <th>6</th>\n",
       "      <td>road28.png</td>\n",
       "      <td>0.448750</td>\n",
       "      <td>0.078603</td>\n",
       "      <td>0.042500</td>\n",
       "      <td>0.139738</td>\n",
       "      <td>0.0</td>\n",
       "    </tr>\n",
       "    <tr>\n",
       "      <th>7</th>\n",
       "      <td>road28.png</td>\n",
       "      <td>0.705000</td>\n",
       "      <td>0.320961</td>\n",
       "      <td>0.045000</td>\n",
       "      <td>0.144105</td>\n",
       "      <td>0.0</td>\n",
       "    </tr>\n",
       "    <tr>\n",
       "      <th>8</th>\n",
       "      <td>road28.png</td>\n",
       "      <td>0.665000</td>\n",
       "      <td>0.329694</td>\n",
       "      <td>0.035000</td>\n",
       "      <td>0.135371</td>\n",
       "      <td>0.0</td>\n",
       "    </tr>\n",
       "    <tr>\n",
       "      <th>9</th>\n",
       "      <td>00881.jpg</td>\n",
       "      <td>0.845221</td>\n",
       "      <td>0.724375</td>\n",
       "      <td>0.027206</td>\n",
       "      <td>0.046250</td>\n",
       "      <td>2.0</td>\n",
       "    </tr>\n",
       "    <tr>\n",
       "      <th>10</th>\n",
       "      <td>00881.jpg</td>\n",
       "      <td>0.364338</td>\n",
       "      <td>0.704375</td>\n",
       "      <td>0.025735</td>\n",
       "      <td>0.043750</td>\n",
       "      <td>2.0</td>\n",
       "    </tr>\n",
       "    <tr>\n",
       "      <th>11</th>\n",
       "      <td>road220.png</td>\n",
       "      <td>0.440000</td>\n",
       "      <td>0.403750</td>\n",
       "      <td>0.046667</td>\n",
       "      <td>0.037500</td>\n",
       "      <td>2.0</td>\n",
       "    </tr>\n",
       "    <tr>\n",
       "      <th>12</th>\n",
       "      <td>road214.png</td>\n",
       "      <td>0.453333</td>\n",
       "      <td>0.438750</td>\n",
       "      <td>0.060000</td>\n",
       "      <td>0.047500</td>\n",
       "      <td>2.0</td>\n",
       "    </tr>\n",
       "    <tr>\n",
       "      <th>13</th>\n",
       "      <td>road675.png</td>\n",
       "      <td>0.088333</td>\n",
       "      <td>0.553750</td>\n",
       "      <td>0.030000</td>\n",
       "      <td>0.022500</td>\n",
       "      <td>2.0</td>\n",
       "    </tr>\n",
       "    <tr>\n",
       "      <th>14</th>\n",
       "      <td>road675.png</td>\n",
       "      <td>0.545000</td>\n",
       "      <td>0.452500</td>\n",
       "      <td>0.096667</td>\n",
       "      <td>0.075000</td>\n",
       "      <td>1.0</td>\n",
       "    </tr>\n",
       "  </tbody>\n",
       "</table>\n",
       "</div>"
      ],
      "text/plain": [
       "           file   xcenter   ycenter     width    height  class\n",
       "0   road274.png  0.641667  0.752500  0.183333  0.145000    2.0\n",
       "1   road770.png  0.515000  0.447500  0.110000  0.075000    2.0\n",
       "2     00653.jpg  0.586029  0.536875  0.016176  0.028750    5.0\n",
       "3     00653.jpg  0.584926  0.494375  0.022794  0.038750    7.0\n",
       "4     00430.jpg  0.712132  0.563750  0.058088  0.092500    7.0\n",
       "5    road52.png  0.480000  0.666250  0.680000  0.502500    1.0\n",
       "6    road28.png  0.448750  0.078603  0.042500  0.139738    0.0\n",
       "7    road28.png  0.705000  0.320961  0.045000  0.144105    0.0\n",
       "8    road28.png  0.665000  0.329694  0.035000  0.135371    0.0\n",
       "9     00881.jpg  0.845221  0.724375  0.027206  0.046250    2.0\n",
       "10    00881.jpg  0.364338  0.704375  0.025735  0.043750    2.0\n",
       "11  road220.png  0.440000  0.403750  0.046667  0.037500    2.0\n",
       "12  road214.png  0.453333  0.438750  0.060000  0.047500    2.0\n",
       "13  road675.png  0.088333  0.553750  0.030000  0.022500    2.0\n",
       "14  road675.png  0.545000  0.452500  0.096667  0.075000    1.0"
      ]
     },
     "execution_count": 21,
     "metadata": {},
     "output_type": "execute_result"
    }
   ],
   "source": [
    "train_df = pd.DataFrame({'file':[], 'xcenter':[], 'ycenter':[], 'width':[], 'height':[], 'class':[]})\n",
    "for file in train['file']:\n",
    "    train_df = train_df.append(final[final['file'] == file], ignore_index=True)\n",
    "    \n",
    "train_df.head(15)"
   ]
  },
  {
   "cell_type": "code",
   "execution_count": 22,
   "metadata": {},
   "outputs": [
    {
     "data": {
      "text/html": [
       "<div>\n",
       "<style scoped>\n",
       "    .dataframe tbody tr th:only-of-type {\n",
       "        vertical-align: middle;\n",
       "    }\n",
       "\n",
       "    .dataframe tbody tr th {\n",
       "        vertical-align: top;\n",
       "    }\n",
       "\n",
       "    .dataframe thead th {\n",
       "        text-align: right;\n",
       "    }\n",
       "</style>\n",
       "<table border=\"1\" class=\"dataframe\">\n",
       "  <thead>\n",
       "    <tr style=\"text-align: right;\">\n",
       "      <th></th>\n",
       "      <th>file</th>\n",
       "      <th>xcenter</th>\n",
       "      <th>ycenter</th>\n",
       "      <th>width</th>\n",
       "      <th>height</th>\n",
       "      <th>class</th>\n",
       "    </tr>\n",
       "  </thead>\n",
       "  <tbody>\n",
       "    <tr>\n",
       "      <th>0</th>\n",
       "      <td>road417.png</td>\n",
       "      <td>0.478333</td>\n",
       "      <td>0.491250</td>\n",
       "      <td>0.116667</td>\n",
       "      <td>0.08750</td>\n",
       "      <td>2.0</td>\n",
       "    </tr>\n",
       "    <tr>\n",
       "      <th>1</th>\n",
       "      <td>road636.png</td>\n",
       "      <td>0.285000</td>\n",
       "      <td>0.153750</td>\n",
       "      <td>0.223333</td>\n",
       "      <td>0.16250</td>\n",
       "      <td>1.0</td>\n",
       "    </tr>\n",
       "    <tr>\n",
       "      <th>2</th>\n",
       "      <td>00179.jpg</td>\n",
       "      <td>0.512132</td>\n",
       "      <td>0.538125</td>\n",
       "      <td>0.015441</td>\n",
       "      <td>0.02375</td>\n",
       "      <td>7.0</td>\n",
       "    </tr>\n",
       "    <tr>\n",
       "      <th>3</th>\n",
       "      <td>road353.png</td>\n",
       "      <td>0.441667</td>\n",
       "      <td>0.492500</td>\n",
       "      <td>0.196667</td>\n",
       "      <td>0.15500</td>\n",
       "      <td>2.0</td>\n",
       "    </tr>\n",
       "    <tr>\n",
       "      <th>4</th>\n",
       "      <td>road360.png</td>\n",
       "      <td>0.323333</td>\n",
       "      <td>0.515000</td>\n",
       "      <td>0.146667</td>\n",
       "      <td>0.11000</td>\n",
       "      <td>2.0</td>\n",
       "    </tr>\n",
       "    <tr>\n",
       "      <th>5</th>\n",
       "      <td>00373.jpg</td>\n",
       "      <td>0.131985</td>\n",
       "      <td>0.665625</td>\n",
       "      <td>0.022794</td>\n",
       "      <td>0.03875</td>\n",
       "      <td>2.0</td>\n",
       "    </tr>\n",
       "    <tr>\n",
       "      <th>6</th>\n",
       "      <td>00373.jpg</td>\n",
       "      <td>0.614706</td>\n",
       "      <td>0.660000</td>\n",
       "      <td>0.025000</td>\n",
       "      <td>0.04250</td>\n",
       "      <td>2.0</td>\n",
       "    </tr>\n",
       "    <tr>\n",
       "      <th>7</th>\n",
       "      <td>00443.jpg</td>\n",
       "      <td>0.611765</td>\n",
       "      <td>0.705000</td>\n",
       "      <td>0.022059</td>\n",
       "      <td>0.03500</td>\n",
       "      <td>4.0</td>\n",
       "    </tr>\n",
       "    <tr>\n",
       "      <th>8</th>\n",
       "      <td>00443.jpg</td>\n",
       "      <td>0.612500</td>\n",
       "      <td>0.735625</td>\n",
       "      <td>0.014706</td>\n",
       "      <td>0.02375</td>\n",
       "      <td>2.0</td>\n",
       "    </tr>\n",
       "    <tr>\n",
       "      <th>9</th>\n",
       "      <td>00443.jpg</td>\n",
       "      <td>0.357353</td>\n",
       "      <td>0.705625</td>\n",
       "      <td>0.023529</td>\n",
       "      <td>0.03375</td>\n",
       "      <td>4.0</td>\n",
       "    </tr>\n",
       "    <tr>\n",
       "      <th>10</th>\n",
       "      <td>00443.jpg</td>\n",
       "      <td>0.358088</td>\n",
       "      <td>0.733750</td>\n",
       "      <td>0.014706</td>\n",
       "      <td>0.02250</td>\n",
       "      <td>2.0</td>\n",
       "    </tr>\n",
       "    <tr>\n",
       "      <th>11</th>\n",
       "      <td>00172.jpg</td>\n",
       "      <td>0.533824</td>\n",
       "      <td>0.603750</td>\n",
       "      <td>0.020588</td>\n",
       "      <td>0.03000</td>\n",
       "      <td>4.0</td>\n",
       "    </tr>\n",
       "    <tr>\n",
       "      <th>12</th>\n",
       "      <td>00172.jpg</td>\n",
       "      <td>0.534926</td>\n",
       "      <td>0.534375</td>\n",
       "      <td>0.013971</td>\n",
       "      <td>0.02375</td>\n",
       "      <td>2.0</td>\n",
       "    </tr>\n",
       "    <tr>\n",
       "      <th>13</th>\n",
       "      <td>00255.jpg</td>\n",
       "      <td>0.162868</td>\n",
       "      <td>0.677500</td>\n",
       "      <td>0.056618</td>\n",
       "      <td>0.09750</td>\n",
       "      <td>5.0</td>\n",
       "    </tr>\n",
       "    <tr>\n",
       "      <th>14</th>\n",
       "      <td>road510.png</td>\n",
       "      <td>0.370000</td>\n",
       "      <td>0.557500</td>\n",
       "      <td>0.146667</td>\n",
       "      <td>0.11000</td>\n",
       "      <td>2.0</td>\n",
       "    </tr>\n",
       "  </tbody>\n",
       "</table>\n",
       "</div>"
      ],
      "text/plain": [
       "           file   xcenter   ycenter     width   height  class\n",
       "0   road417.png  0.478333  0.491250  0.116667  0.08750    2.0\n",
       "1   road636.png  0.285000  0.153750  0.223333  0.16250    1.0\n",
       "2     00179.jpg  0.512132  0.538125  0.015441  0.02375    7.0\n",
       "3   road353.png  0.441667  0.492500  0.196667  0.15500    2.0\n",
       "4   road360.png  0.323333  0.515000  0.146667  0.11000    2.0\n",
       "5     00373.jpg  0.131985  0.665625  0.022794  0.03875    2.0\n",
       "6     00373.jpg  0.614706  0.660000  0.025000  0.04250    2.0\n",
       "7     00443.jpg  0.611765  0.705000  0.022059  0.03500    4.0\n",
       "8     00443.jpg  0.612500  0.735625  0.014706  0.02375    2.0\n",
       "9     00443.jpg  0.357353  0.705625  0.023529  0.03375    4.0\n",
       "10    00443.jpg  0.358088  0.733750  0.014706  0.02250    2.0\n",
       "11    00172.jpg  0.533824  0.603750  0.020588  0.03000    4.0\n",
       "12    00172.jpg  0.534926  0.534375  0.013971  0.02375    2.0\n",
       "13    00255.jpg  0.162868  0.677500  0.056618  0.09750    5.0\n",
       "14  road510.png  0.370000  0.557500  0.146667  0.11000    2.0"
      ]
     },
     "execution_count": 22,
     "metadata": {},
     "output_type": "execute_result"
    }
   ],
   "source": [
    "test_df = pd.DataFrame({'file':[], 'xcenter':[], 'ycenter':[], 'width':[], 'height':[], 'class':[]})\n",
    "for file in test['file']:\n",
    "    test_df = test_df.append(final[final['file'] == file], ignore_index=True)\n",
    "    \n",
    "test_df.head(15)"
   ]
  },
  {
   "cell_type": "code",
   "execution_count": null,
   "metadata": {},
   "outputs": [],
   "source": [
    "cls_distribution = np.array(train_df['class'])\n",
    "plt.hist(cls_distribution, bins = 8)\n",
    "plt.title(\"Class distribution - Train Set (Not Augmented)\")\n",
    "plt.show()"
   ]
  },
  {
   "cell_type": "code",
   "execution_count": null,
   "metadata": {},
   "outputs": [],
   "source": [
    "cls_distribution = np.array(test_df['class'])\n",
    "plt.hist(cls_distribution, bins = 8)\n",
    "plt.title(\"Class distribution - Test Set\")\n",
    "plt.show()"
   ]
  },
  {
   "cell_type": "markdown",
   "metadata": {},
   "source": [
    "Save this information to a csv file (if ever needed any further)"
   ]
  },
  {
   "cell_type": "code",
   "execution_count": 19,
   "metadata": {},
   "outputs": [],
   "source": [
    "train_df.to_csv(\"gt_train_not_augmented.csv\", index=False)\n",
    "test_df.to_csv(\"gt_test.csv\", index=False)"
   ]
  },
  {
   "cell_type": "markdown",
   "metadata": {},
   "source": [
    "Augmentation of all classes except speed limits"
   ]
  },
  {
   "cell_type": "code",
   "execution_count": 56,
   "metadata": {},
   "outputs": [],
   "source": [
    "to_augment = train_df[train_df['class'] != 2]\n",
    "to_augment = to_augment.reset_index(drop=True)\n",
    "aug_files = to_augment['file'].unique().tolist()"
   ]
  },
  {
   "cell_type": "code",
   "execution_count": 57,
   "metadata": {},
   "outputs": [],
   "source": [
    "aug = pd.DataFrame({'file':[], 'xcenter':[], 'ycenter':[], 'width':[], 'height':[], 'class':[]})"
   ]
  },
  {
   "cell_type": "code",
   "execution_count": 60,
   "metadata": {},
   "outputs": [],
   "source": [
    "index = 0\n",
    "for file in aug_files:\n",
    "    index_list = train_df[train_df['file']==file].index\n",
    "    for i in index_list:\n",
    "        filename = train_df['file'][i]\n",
    "        base = filename.split(\".\")[0]\n",
    "        ext = filename.split(\".\")[1]\n",
    "        dark = base + \"_dark.\" + ext\n",
    "        bright = base + \"_bright.\" + ext\n",
    "        blur = base + \"_blur.\" + ext\n",
    "        blur2 = base + \"_blur2.\" + ext\n",
    "        aug.loc[index*4] = [dark, train_df['xcenter'][i], train_df['ycenter'][i], train_df['width'][i], train_df['height'][i], train_df['class'][i]]\n",
    "        aug.loc[index*4 + 1] = [bright, train_df['xcenter'][i], train_df['ycenter'][i], train_df['width'][i], train_df['height'][i], train_df['class'][i]]\n",
    "        aug.loc[index*4 + 2] = [blur, train_df['xcenter'][i], train_df['ycenter'][i], train_df['width'][i], train_df['height'][i], train_df['class'][i]]\n",
    "        aug.loc[index*4 + 3] = [blur2, train_df['xcenter'][i], train_df['ycenter'][i], train_df['width'][i], train_df['height'][i], train_df['class'][i]]\n",
    "        index += 1"
   ]
  },
  {
   "cell_type": "markdown",
   "metadata": {},
   "source": [
    "Save the final training set to csv file (if ever needed any further)"
   ]
  },
  {
   "cell_type": "code",
   "execution_count": 64,
   "metadata": {},
   "outputs": [],
   "source": [
    "final_train = pd.concat([aug, train_df], ignore_index=True)\n",
    "final_train.to_csv(\"gt_train_augmented.csv\", index=False)"
   ]
  },
  {
   "cell_type": "markdown",
   "metadata": {},
   "source": [
    "Plot the distribution upon augmentation"
   ]
  },
  {
   "cell_type": "code",
   "execution_count": null,
   "metadata": {},
   "outputs": [],
   "source": [
    "cls_distribution = np.array(final_train['class'])\n",
    "plt.hist(cls_distribution, bins = 8)\n",
    "plt.title(\"Class distribution - Train Set (Augmented)\")\n",
    "plt.show()"
   ]
  },
  {
   "cell_type": "markdown",
   "metadata": {},
   "source": [
    "### Generate train.txt and test.txt files"
   ]
  },
  {
   "cell_type": "markdown",
   "metadata": {},
   "source": [
    "Specify the path to the directory of the files (assuming all images will be stored in the same folder)"
   ]
  },
  {
   "cell_type": "code",
   "execution_count": 65,
   "metadata": {},
   "outputs": [],
   "source": [
    "images_dir = 'data/images/'"
   ]
  },
  {
   "cell_type": "markdown",
   "metadata": {},
   "source": [
    "For each unique file in final_train and test_df dataframes add the corresponding line to train.txt and test.tx respectively"
   ]
  },
  {
   "cell_type": "code",
   "execution_count": 66,
   "metadata": {},
   "outputs": [],
   "source": [
    "train_files = final_train['file'].unique().tolist()\n",
    "test_files = test_df['file'].unique().tolist()\n",
    "\n",
    "train_out = open(\"train.txt\", \"w\")\n",
    "test_out = open(\"test.txt\", \"w\")\n",
    "\n",
    "for file in train_files:\n",
    "    train_out.write(images_dir+file+\"\\n\")\n",
    "    \n",
    "for file in test_files:\n",
    "    test_out.write(images_dir+file+\"\\n\")\n",
    "    \n",
    "train_out.close()\n",
    "test_out.close()"
   ]
  }
 ],
 "metadata": {
  "colab": {
   "collapsed_sections": [],
   "name": "Untitled0.ipynb",
   "provenance": []
  },
  "kernelspec": {
   "display_name": "Python 3 (ipykernel)",
   "language": "python",
   "name": "python3"
  },
  "language_info": {
   "codemirror_mode": {
    "name": "ipython",
    "version": 3
   },
   "file_extension": ".py",
   "mimetype": "text/x-python",
   "name": "python",
   "nbconvert_exporter": "python",
   "pygments_lexer": "ipython3",
   "version": "3.8.8"
  }
 },
 "nbformat": 4,
 "nbformat_minor": 1
}
