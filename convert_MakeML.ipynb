{
 "cells": [
  {
   "cell_type": "markdown",
   "metadata": {
    "id": "mDkmKHtV9Ayx"
   },
   "source": [
    "# Convert annotations of MakeML dataset to YOLO format"
   ]
  },
  {
   "cell_type": "code",
   "execution_count": 75,
   "metadata": {},
   "outputs": [],
   "source": [
    "#import libraries\n",
    "import glob\n",
    "import os\n",
    "import xml.etree.ElementTree as ET\n",
    "import pandas as pd"
   ]
  },
  {
   "cell_type": "markdown",
   "metadata": {},
   "source": [
    "Define function to convert annotations"
   ]
  },
  {
   "cell_type": "code",
   "execution_count": 45,
   "metadata": {},
   "outputs": [],
   "source": [
    "def convert (xmin, xmax, ymin, ymax, img_width, img_height):\n",
    "    xcenter = (xmin + xmax) / img_width / 2\n",
    "    ycenter = (ymin + ymax) / img_height / 2\n",
    "    w = (xmax - xmin) / img_width\n",
    "    h = (ymax - ymin) / img_height\n",
    "    return xcenter, ycenter, w, h"
   ]
  },
  {
   "cell_type": "markdown",
   "metadata": {},
   "source": [
    "Define the path to the directory containing the XML annotations and the path to the directory to write the YOLO anonotations. Create the directory if it does not exist"
   ]
  },
  {
   "cell_type": "code",
   "execution_count": 46,
   "metadata": {},
   "outputs": [
    {
     "name": "stdout",
     "output_type": "stream",
     "text": [
      "Directory already exists\n"
     ]
    }
   ],
   "source": [
    "xml_ann_path = \"MakeML/annotations\"\n",
    "yolo_ann_path = xml_ann_path + \"_yolo/\"\n",
    "\n",
    "try:\n",
    "    os.mkdir(yolo_ann_path)\n",
    "    print(\"Directory '% s' created\" % yolo_ann_path)\n",
    "except OSError as error:\n",
    "    print(\"Directory already exists\")"
   ]
  },
  {
   "cell_type": "markdown",
   "metadata": {},
   "source": [
    "Create (or open) a csv file to save the annotations information (for easier manipulation and further analysis using pandas) and add header"
   ]
  },
  {
   "cell_type": "code",
   "execution_count": 70,
   "metadata": {},
   "outputs": [
    {
     "data": {
      "text/plain": [
       "40"
      ]
     },
     "execution_count": 70,
     "metadata": {},
     "output_type": "execute_result"
    }
   ],
   "source": [
    "csv_file = \"gt_MakeML_yolo.csv\"\n",
    "csv_out = open(csv_file, \"w\")\n",
    "csv_out.write('file,xcenter,ycenter,width,height,class\\n')"
   ]
  },
  {
   "cell_type": "markdown",
   "metadata": {},
   "source": [
    "Define the classes in the dataset. They must respect the order of reclassification (0-trafficlight, 1-stop, 2-speedlimit, 3-crosswalk)"
   ]
  },
  {
   "cell_type": "code",
   "execution_count": 71,
   "metadata": {},
   "outputs": [],
   "source": [
    "classes = ['trafficlight', 'stop', 'speedlimit', 'crosswalk']"
   ]
  },
  {
   "cell_type": "markdown",
   "metadata": {},
   "source": [
    "Read the XML annotation files, extract the necessary information, convert coordinates and classes, write to the corresponding YOLO annotation file, and write to the csv file "
   ]
  },
  {
   "cell_type": "code",
   "execution_count": null,
   "metadata": {
    "scrolled": false
   },
   "outputs": [],
   "source": [
    "for filename in glob.glob( xml_ann_path + \"/*.xml\"): \n",
    "        \n",
    "    #get the basename (without extension) of the file\n",
    "    basename = os.path.basename(filename)\n",
    "    basename = os.path.splitext(basename)[0]\n",
    "    \n",
    "    #open the file to read\n",
    "    ann_in = open(filename, \"r\")\n",
    "    #open (create) the file to write\n",
    "    ann_out = open(path + basename + \".txt\", \"w\")\n",
    "    \n",
    "    tree = ET.parse(ann_in)\n",
    "    root = tree.getroot()\n",
    "    size = root.find('size')\n",
    "    img_width = int(size.find('width').text)\n",
    "    img_height = int(size.find('height').text)\n",
    "    \n",
    "    for obj in root.iter('object'):\n",
    "        cls = obj.find('name').text\n",
    "        class_id = classes.index(cls)\n",
    "        bbox = obj.find('bndbox')\n",
    "        xmin = int(bbox.find('xmin').text)\n",
    "        xmax = int(bbox.find('xmax').text)\n",
    "        ymin = int(bbox.find('ymin').text)\n",
    "        ymax = int(bbox.find('ymax').text)\n",
    "        \n",
    "        xcenter, ycenter, w, h = convert(xmin, xmax, ymin, ymax, img_width, img_height)\n",
    "        csv_out.write(basename + \".png,\" + str(xcenter) + \",\" + str(ycenter) + \",\" + str(w) + \",\" + str(h) + \",\" + str(class_id) + \"\\n\")\n",
    "        ann_out.write(str(class_id) + \" \" + str(xcenter) + \" \" + str(ycenter) + \" \" + str(w) + \" \" + str(h) + \"\\n\")\n",
    "    \n",
    "    ann_out.close()\n",
    "    \n",
    "csv_out.close()"
   ]
  },
  {
   "cell_type": "code",
   "execution_count": 74,
   "metadata": {},
   "outputs": [
    {
     "data": {
      "text/html": [
       "<div>\n",
       "<style scoped>\n",
       "    .dataframe tbody tr th:only-of-type {\n",
       "        vertical-align: middle;\n",
       "    }\n",
       "\n",
       "    .dataframe tbody tr th {\n",
       "        vertical-align: top;\n",
       "    }\n",
       "\n",
       "    .dataframe thead th {\n",
       "        text-align: right;\n",
       "    }\n",
       "</style>\n",
       "<table border=\"1\" class=\"dataframe\">\n",
       "  <thead>\n",
       "    <tr style=\"text-align: right;\">\n",
       "      <th></th>\n",
       "      <th>file</th>\n",
       "      <th>xcenter</th>\n",
       "      <th>ycenter</th>\n",
       "      <th>width</th>\n",
       "      <th>height</th>\n",
       "      <th>class</th>\n",
       "    </tr>\n",
       "  </thead>\n",
       "  <tbody>\n",
       "    <tr>\n",
       "      <th>0</th>\n",
       "      <td>road0.png</td>\n",
       "      <td>0.573034</td>\n",
       "      <td>0.367500</td>\n",
       "      <td>0.411985</td>\n",
       "      <td>0.425000</td>\n",
       "      <td>0</td>\n",
       "    </tr>\n",
       "    <tr>\n",
       "      <th>1</th>\n",
       "      <td>road1.png</td>\n",
       "      <td>0.515000</td>\n",
       "      <td>0.607774</td>\n",
       "      <td>0.260000</td>\n",
       "      <td>0.770318</td>\n",
       "      <td>0</td>\n",
       "    </tr>\n",
       "    <tr>\n",
       "      <th>2</th>\n",
       "      <td>road10.png</td>\n",
       "      <td>0.437500</td>\n",
       "      <td>0.498127</td>\n",
       "      <td>0.345000</td>\n",
       "      <td>0.973783</td>\n",
       "      <td>0</td>\n",
       "    </tr>\n",
       "    <tr>\n",
       "      <th>3</th>\n",
       "      <td>road100.png</td>\n",
       "      <td>0.497500</td>\n",
       "      <td>0.429870</td>\n",
       "      <td>0.820000</td>\n",
       "      <td>0.833766</td>\n",
       "      <td>2</td>\n",
       "    </tr>\n",
       "    <tr>\n",
       "      <th>4</th>\n",
       "      <td>road101.png</td>\n",
       "      <td>0.733750</td>\n",
       "      <td>0.502500</td>\n",
       "      <td>0.492500</td>\n",
       "      <td>0.935000</td>\n",
       "      <td>2</td>\n",
       "    </tr>\n",
       "    <tr>\n",
       "      <th>5</th>\n",
       "      <td>road102.png</td>\n",
       "      <td>0.350000</td>\n",
       "      <td>0.529963</td>\n",
       "      <td>0.515000</td>\n",
       "      <td>0.775281</td>\n",
       "      <td>2</td>\n",
       "    </tr>\n",
       "    <tr>\n",
       "      <th>6</th>\n",
       "      <td>road103.png</td>\n",
       "      <td>0.482500</td>\n",
       "      <td>0.493355</td>\n",
       "      <td>0.520000</td>\n",
       "      <td>0.820598</td>\n",
       "      <td>2</td>\n",
       "    </tr>\n",
       "    <tr>\n",
       "      <th>7</th>\n",
       "      <td>road104.png</td>\n",
       "      <td>0.490000</td>\n",
       "      <td>0.493132</td>\n",
       "      <td>0.740000</td>\n",
       "      <td>0.909341</td>\n",
       "      <td>2</td>\n",
       "    </tr>\n",
       "    <tr>\n",
       "      <th>8</th>\n",
       "      <td>road105.png</td>\n",
       "      <td>0.513333</td>\n",
       "      <td>0.653750</td>\n",
       "      <td>0.846667</td>\n",
       "      <td>0.577500</td>\n",
       "      <td>2</td>\n",
       "    </tr>\n",
       "    <tr>\n",
       "      <th>9</th>\n",
       "      <td>road106.png</td>\n",
       "      <td>0.494382</td>\n",
       "      <td>0.470000</td>\n",
       "      <td>0.232210</td>\n",
       "      <td>0.190000</td>\n",
       "      <td>2</td>\n",
       "    </tr>\n",
       "  </tbody>\n",
       "</table>\n",
       "</div>"
      ],
      "text/plain": [
       "          file   xcenter   ycenter     width    height  class\n",
       "0    road0.png  0.573034  0.367500  0.411985  0.425000      0\n",
       "1    road1.png  0.515000  0.607774  0.260000  0.770318      0\n",
       "2   road10.png  0.437500  0.498127  0.345000  0.973783      0\n",
       "3  road100.png  0.497500  0.429870  0.820000  0.833766      2\n",
       "4  road101.png  0.733750  0.502500  0.492500  0.935000      2\n",
       "5  road102.png  0.350000  0.529963  0.515000  0.775281      2\n",
       "6  road103.png  0.482500  0.493355  0.520000  0.820598      2\n",
       "7  road104.png  0.490000  0.493132  0.740000  0.909341      2\n",
       "8  road105.png  0.513333  0.653750  0.846667  0.577500      2\n",
       "9  road106.png  0.494382  0.470000  0.232210  0.190000      2"
      ]
     },
     "execution_count": 74,
     "metadata": {},
     "output_type": "execute_result"
    }
   ],
   "source": [
    "df = pd.read_csv(\"gt_MakeML_yolo.csv\")\n",
    "df.head(10)"
   ]
  },
  {
   "cell_type": "code",
   "execution_count": null,
   "metadata": {},
   "outputs": [],
   "source": []
  }
 ],
 "metadata": {
  "colab": {
   "collapsed_sections": [],
   "name": "Untitled0.ipynb",
   "provenance": []
  },
  "kernelspec": {
   "display_name": "Python 3 (ipykernel)",
   "language": "python",
   "name": "python3"
  },
  "language_info": {
   "codemirror_mode": {
    "name": "ipython",
    "version": 3
   },
   "file_extension": ".py",
   "mimetype": "text/x-python",
   "name": "python",
   "nbconvert_exporter": "python",
   "pygments_lexer": "ipython3",
   "version": "3.8.8"
  }
 },
 "nbformat": 4,
 "nbformat_minor": 1
}
